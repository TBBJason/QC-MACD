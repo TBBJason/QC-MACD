{
 "cells": [
  {
   "cell_type": "markdown",
   "metadata": {
    "pycharm": {
     "name": "#%% md\n"
    }
   },
   "source": [
    "![QuantConnect Logo](https://cdn.quantconnect.com/web/i/icon.png)\n",
    "<hr>"
   ]
  },
  {
   "cell_type": "code",
   "execution_count": 1,
   "metadata": {},
   "outputs": [],
   "source": [
    "import numpy as np\n",
    "import pandas as pd\n",
    "from datetime import datetime, timedelta\n",
    "import matplotlib.pyplot as plt\n",
    "import seaborn\n",
    "from datetime import timedelta, datetime\n",
    "qb= QuantBook()\n"
   ]
  },
  {
   "cell_type": "markdown",
   "metadata": {},
   "source": [
    "# Setting up preliminary information"
   ]
  },
  {
   "cell_type": "code",
   "execution_count": null,
   "metadata": {},
   "outputs": [],
   "source": [
    "symbols = [\"GOOGL\", \"MSFT\"]\n",
    "time_range = 365\n",
    "end = datetime.now()\n",
    "start = end - timedelta(days=time_range)\n",
    "resolution = Resolution.Hour\n",
    "for symbol in symbols:\n",
    "    qb.add_equity(symbol)"
   ]
  },
  {
   "cell_type": "code",
   "execution_count": 23,
   "metadata": {},
   "outputs": [],
   "source": [
    "history = qb.history(symbols, start, end, resolution)\n"
   ]
  },
  {
   "cell_type": "code",
   "execution_count": 24,
   "metadata": {},
   "outputs": [],
   "source": [
    "if history.empty:\n",
    "    raise RuntimeError(\"couldn't find any information\")\n",
    "else:\n",
    "    print(history.head())\n",
    "    print(history.tail())\n",
    "\n"
   ]
  },
  {
   "cell_type": "code",
   "execution_count": 25,
   "metadata": {},
   "outputs": [],
   "source": [
    "closes = history[\"close\"]\n",
    "# print(closes.head())\n",
    "# print(closes.tail())\n",
    "\n",
    "closes = closes.unstack(level=0)\n",
    "print(closes.head())\n"
   ]
  },
  {
   "cell_type": "markdown",
   "metadata": {},
   "source": [
    "# Starting Analysis"
   ]
  },
  {
   "cell_type": "code",
   "execution_count": null,
   "metadata": {},
   "outputs": [],
   "source": [
    "X = closes[\"GOOGL\"] # we'll use this as our independent variable\n",
    "Y = closes[\"MSFT\"]\n",
    "print(X)\n",
    "\n",
    "plt.scatter(X, Y, color='blue', label='GOOGL vs MSFT')\n",
    "\n",
    "# We'll create a predictor function using OLS\n"
   ]
  },
  {
   "cell_type": "code",
   "execution_count": 29,
   "metadata": {},
   "outputs": [],
   "source": [
    "X = np.vstack([np.ones(len(X)), X]).T\n",
    "# print(X)\n",
    "\n",
    "theta = np.linalg.lstsq(X, Y, rcond=None)\n",
    "print(theta) # solution matrix is the first variable, with the first being our intercept and second being our slope, since we only have 1 independent variable, but many observations, our A matrix should be 2 columns\n",
    "beta = theta[0][1]\n",
    "alpha_hat = theta[0][0]\n"
   ]
  },
  {
   "cell_type": "code",
   "execution_count": 31,
   "metadata": {},
   "outputs": [],
   "source": [
    "spread = closes['MSFT'] - (beta * closes['GOOGL'] + alpha_hat)\n",
    "print((beta * closes['GOOGL'] + alpha_hat).head())\n",
    "print(closes[\"MSFT\"].head())\n",
    "# print(spread.head())"
   ]
  },
  {
   "cell_type": "code",
   "execution_count": null,
   "metadata": {},
   "outputs": [],
   "source": [
    "# Rolling Statistics \n",
    "sma_window = 30 # same as SMA(30) in the algorithm (30 hourly bars)\n",
    "spread_sma = spread.rolling(sma_window).mean()\n",
    "spread_std = spread.rolling(sma_window).std()\n",
    "\n",
    "z_score = (spread - spread_sma) / spread_std\n",
    "\n"
   ]
  },
  {
   "cell_type": "code",
   "execution_count": null,
   "metadata": {},
   "outputs": [],
   "source": [
    "# plotting the spread and moving average\n",
    "plt.plot(spread.index, spread, label='spread(X - beta.Y)')\n",
    "plt.plot(spread_sma.index, spread_sma, label=f'SMA({sma_window})')\n",
    "plt.title('Constructed spread and rolling mean')\n",
    "plt.legend()\n",
    "plt.show()"
   ]
  },
  {
   "cell_type": "code",
   "execution_count": null,
   "metadata": {},
   "outputs": [],
   "source": [
    "def macd_series(series, fast=12, slow=26, signal=9):\n",
    "    ema_fast = series.ewm(span=fast, adjust=False).mean()\n",
    "    ema_slow = series.ewm(span=slow, adjust=False).mean()\n",
    "    macd_line = ema_fast - ema_slow\n",
    "    signal_line = macd_line.ewm(span=signal, adjust=False).mean()\n",
    "    hist = macd_line - signal_line\n",
    "    return macd_line, signal_line, hist\n",
    "\n",
    "macd_line, signal_line, macd_hist = macd_series(spread, fast=12, slow=26, signal=9)\n",
    "\n",
    "plt.plot(spread.index, macd_line, label='MACD line')\n",
    "plt.plot(spread.index, signal_line, label='Signal line')\n",
    "plt.legend() \n",
    "plt.title('MACD on spread') \n",
    "plt.show()\n",
    "\n"
   ]
  },
  {
   "cell_type": "code",
   "execution_count": 38,
   "metadata": {},
   "outputs": [],
   "source": [
    "s = spread.dropna()\n",
    "s_lag = s.shift(1).dropna()\n",
    "\n",
    "# print(s)\n",
    "\n",
    "# need to add what these ones do\n",
    "ds = (s - s_lag).dropna()\n",
    "s_lag = s_lag.loc[ds.index]\n",
    "\n",
    "B = np.vstack([np.ones(len(s_lag)), s_lag]).T\n",
    "# print(B)\n",
    "\n",
    "alpha = np.linalg.lstsq(B, ds.values, rcond=None)\n",
    "coefs = alpha[0]\n",
    "b = alpha[0][1]\n",
    "# print(coefs)\n",
    "# print(b)\n",
    "\n",
    "dt = 1.0 # unit = 1 hour between observations\n",
    "\n",
    "theta = np.nan\n",
    "if (1 + b) > 0:\n",
    "    theta = -np.log(1 + b) / dt\n",
    "\n",
    "print(theta)\n",
    "half_life = np.nan\n",
    "if (theta > 0):\n",
    "    half_life = np.log(2) / theta\n",
    "    \n",
    "print(half_life)"
   ]
  },
  {
   "cell_type": "code",
   "execution_count": 39,
   "metadata": {},
   "outputs": [],
   "source": [
    "static_z = 2.0\n",
    "\n",
    "hl = max(1.0, np.nan_to_num(half_life, 4.0))\n",
    "dynamic_z = 2.0 * np.sqrt(hl / 50.0)\n",
    "print(f\"static_z={static_z:.2f}, dynamic_z={dynamic_z:.2f} (half-life based)\")\n",
    "\n",
    "z = z_score\n",
    "macd_pos = macd_line > signal_line\n",
    "macd_neg = macd_line < signal_line\n"
   ]
  },
  {
   "cell_type": "code",
   "execution_count": null,
   "metadata": {},
   "outputs": [],
   "source": [
    "#Backtest logic\n",
    "start_nav = 100000.0\n",
    "nav = start_nav\n",
    "target_dollars = 0.01 * start_nav  # target 1% of portfolio per trade before scaling\n",
    "positions = []   # list of (entry_time, entry_spread, sign, units)\n",
    "trade_log = []\n",
    "\n",
    "in_position = False\n",
    "pos = None  # (entry_idx, sign, units, entry_spread)\n",
    "\n",
    "for t in range(len(spread)-1):\n",
    "    idx = spread.index[t]\n",
    "    s_t = spread.iloc[t]\n",
    "    z_t = z.iloc[t]\n",
    "    macd_up = macd_pos.iloc[t]\n",
    "    macd_down = macd_neg.iloc[t]\n",
    "\n",
    "    # determine threshold (can use static or dynamic)\n",
    "    z_threshold = dynamic_z  # choose dynamic; switch to static_z to compare\n",
    "\n",
    "    # generate signals\n",
    "    enter_long = (macd_up and (z_t < -z_threshold))\n",
    "    enter_short = (macd_down and (z_t > z_threshold))\n",
    "\n",
    "    if not in_position:\n",
    "        if enter_long or enter_short:\n",
    "            sign = 1 if enter_long else -1   # +1 => long spread (buy QQQ, short SPY)\n",
    "            # volatility scaled units: target_dollars divided by abs(spread) (avoid divide by zero)\n",
    "            units = (target_dollars / (abs(s_t) + 1e-9))\n",
    "            # floor units to reasonable number (optional)\n",
    "            in_position = True\n",
    "            pos = (t, sign, units, s_t)\n",
    "    else:\n",
    "        entry_t, sign, units, entry_s = pos\n",
    "        # exit if mean reversion (z crossing zero) or opposite signal\n",
    "        z_entry = z.iloc[entry_t]\n",
    "        exit_condition = ( (sign == 1 and z_t >= 0) or (sign == -1 and z_t <= 0) )\n",
    "        opposite = ( (sign == 1 and enter_short) or (sign == -1 and enter_long) )\n",
    "        if exit_condition or opposite:\n",
    "            # P&L is units * (spread_exit - spread_entry) * sign\n",
    "            spread_exit = s_t\n",
    "            pnl = units * (spread_exit - entry_s) * sign\n",
    "            nav += pnl\n",
    "            trade_log.append({\n",
    "                'entry_time': spread.index[entry_t],\n",
    "                'exit_time': idx,\n",
    "                'entry_spread': entry_s,\n",
    "                'exit_spread': spread_exit,\n",
    "                'sign': sign,\n",
    "                'units': units,\n",
    "                'pnl': pnl,\n",
    "                'nav': nav\n",
    "            })\n",
    "            in_position = False\n",
    "            pos = None\n",
    "\n",
    "# Summarize\n",
    "trade_df = pd.DataFrame(trade_log)\n",
    "print(\"Trades:\", len(trade_df))\n",
    "print(\"Final NAV:\", nav)\n",
    "if not trade_df.empty:\n",
    "    print(\"Avg PnL per trade:\", trade_df['pnl'].mean())\n",
    "    print(\"Win rate:\", (trade_df['pnl'] > 0).mean())\n",
    "    # cumulative NAV plot\n",
    "    trade_df.set_index('exit_time', inplace=True)\n",
    "    trade_df['nav'].plot(title='NAV after each closed trade')\n",
    "    plt.show()\n"
   ]
  },
  {
   "cell_type": "code",
   "execution_count": null,
   "metadata": {},
   "outputs": [],
   "source": [
    "if trade_df.empty:\n",
    "    print(\"No trades executed with these rules — try lowering threshold or using static_z.\")\n",
    "else:\n",
    "    total_pnl = trade_df['pnl'].sum()\n",
    "    returns = trade_df['pnl'] / start_nav\n",
    "    ann_return = (1 + returns.sum()) ** (365.0 / time_range) - 1\n",
    "    print(f\"Total PnL: {total_pnl:.2f}, Trade count: {len(trade_df)}\")\n",
    "    print(f\"Approx annualized return (trade-level sum approximation): {ann_return:.2%}\")\n",
    "    # simple equity curve using exit NAVs\n",
    "    equity = trade_df['nav']\n",
    "    plt.plot(equity.index, equity.values)\n",
    "    plt.title('Equity curve (nav after each closed trade)')\n",
    "    plt.show()\n"
   ]
  },
  {
   "cell_type": "code",
   "execution_count": null,
   "metadata": {},
   "outputs": [],
   "source": []
  },
  {
   "cell_type": "code",
   "execution_count": null,
   "metadata": {
    "pycharm": {
     "name": "#%%\n"
    }
   },
   "outputs": [],
   "source": []
  }
 ],
 "metadata": {
  "kernelspec": {
   "display_name": "Foundation-Py-Default",
   "language": "python",
   "name": "python3"
  },
  "language_info": {
   "codemirror_mode": {
    "name": "ipython",
    "version": 3
   },
   "file_extension": ".py",
   "mimetype": "text/x-python",
   "name": "python",
   "nbconvert_exporter": "python",
   "pygments_lexer": "ipython3",
   "version": "3.11.13"
  }
 },
 "nbformat": 4,
 "nbformat_minor": 2
}
